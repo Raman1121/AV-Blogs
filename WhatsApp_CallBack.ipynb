{
 "cells": [
  {
   "cell_type": "markdown",
   "metadata": {},
   "source": [
    "# Creating a Keras Callback that sends notifications on Whatsapp"
   ]
  },
  {
   "cell_type": "code",
   "execution_count": null,
   "metadata": {},
   "outputs": [],
   "source": [
    "!pip install twilio"
   ]
  },
  {
   "cell_type": "code",
   "execution_count": null,
   "metadata": {},
   "outputs": [],
   "source": [
    "from tensorflow.keras.layers import Dense\n",
    "from sklearn.datasets import make_classification\n",
    "from twilio.rest import Client\n",
    "from tensorflow.keras.callbacks import Callback\n",
    "from tensorflow.keras.models import Sequential\n",
    "from tensorflow.keras import backend as K\n",
    "from sklearn.model_selection import cross_val_score\n",
    "from sklearn.preprocessing import LabelEncoder\n",
    "from sklearn.model_selection import StratifiedKFold, train_test_split"
   ]
  },
  {
   "cell_type": "markdown",
   "metadata": {},
   "source": [
    "### Creating the function to send text message"
   ]
  },
  {
   "cell_type": "code",
   "execution_count": null,
   "metadata": {},
   "outputs": [],
   "source": [
    "def send_message(text):\n",
    "    account_sid = 'account_ID' #Can be obtained from Twilio Console\n",
    "    auth_token = 'auth_token'  #Can be obtained from Twilio Console\n",
    "    client = Client(account_sid, auth_token)\n",
    "\n",
    "    message = client.messages \\\n",
    "    .create(\n",
    "         from_='whatsapp:+14155238886',\n",
    "         body=text,\n",
    "         to='whatsapp:+918*********'\n",
    "     )"
   ]
  },
  {
   "cell_type": "markdown",
   "metadata": {},
   "source": [
    "### Creating a Custom CallBack"
   ]
  },
  {
   "cell_type": "code",
   "execution_count": null,
   "metadata": {},
   "outputs": [],
   "source": [
    "'''\n",
    "Creating a custom callback in keras. For more info, see https://www.tensorflow.org/guide/keras/custom_callback and \n",
    "    https://keunwoochoi.wordpress.com/2016/07/16/keras-callbacks/\n",
    "'''\n",
    "\n",
    "class WhatsappCallBack(Callback): \n",
    "    def on_train_begin(self, logs = None):\n",
    "        self.losses = [] #Initializing the list of losses\n",
    "        send_message(\"The training has started\") #Sending message on whatsapp at the beginning of the training\n",
    "\n",
    "    def on_epoch_begin(self, epoch, logs = None):\n",
    "        pass\n",
    "\n",
    "\n",
    "    def on_epoch_end(self, epoch, logs = None):\n",
    "        self.losses.append(logs['loss'])\n",
    "\n",
    "    def on_train_end(self, logs = None):\n",
    "        send_message(\"The training has ended\") #Sending message on whatsapp at the end of the training\n",
    "        send_message(self.losses)"
   ]
  },
  {
   "cell_type": "code",
   "execution_count": null,
   "metadata": {},
   "outputs": [],
   "source": [
    "cb = WhatsappCallBack() #Creating the Callback"
   ]
  },
  {
   "cell_type": "markdown",
   "metadata": {},
   "source": [
    "### Creating a sample dataset and testing our model\n"
   ]
  },
  {
   "cell_type": "code",
   "execution_count": null,
   "metadata": {},
   "outputs": [],
   "source": [
    "x,y = make_classification(n_samples=1000, n_classes=2, n_features=20)\n",
    "x_train, x_test, y_train, y_test = train_test_split(x,y, test_size = 0.3)"
   ]
  },
  {
   "cell_type": "code",
   "execution_count": null,
   "metadata": {},
   "outputs": [],
   "source": [
    "def create_model():\n",
    "    model = Sequential()\n",
    "    model.add(Dense(60, input_dim=20, activation='relu'))\n",
    "    model.add(Dense(1, activation='sigmoid'))\n",
    "    model.compile(loss='binary_crossentropy', optimizer='adam', metrics=['accuracy'])\n",
    "\n",
    "    return model\n",
    "\n",
    "model = create_model()"
   ]
  },
  {
   "cell_type": "code",
   "execution_count": null,
   "metadata": {},
   "outputs": [],
   "source": [
    "model.fit(x_train,y_train,batch_size=32, epochs=20, callbacks=[cb2], verbose=1) #Fitting the model"
   ]
  }
 ],
 "metadata": {
  "kernelspec": {
   "display_name": "Python 3",
   "language": "python",
   "name": "python3"
  },
  "language_info": {
   "codemirror_mode": {
    "name": "ipython",
    "version": 3
   },
   "file_extension": ".py",
   "mimetype": "text/x-python",
   "name": "python",
   "nbconvert_exporter": "python",
   "pygments_lexer": "ipython3",
   "version": "3.7.7"
  }
 },
 "nbformat": 4,
 "nbformat_minor": 4
}
